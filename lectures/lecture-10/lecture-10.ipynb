{
 "cells": [
  {
   "cell_type": "markdown",
   "metadata": {
    "slideshow": {
     "slide_type": "slide"
    }
   },
   "source": [
    "# Lecture 10:  Randomized linear algebra"
   ]
  },
  {
   "cell_type": "markdown",
   "metadata": {
    "slideshow": {
     "slide_type": "slide"
    }
   },
   "source": [
    "## Brief recap of the previous lecture\n",
    "\n",
    "\n",
    "SVD and algorithms for its computations: divide-and-conquer, QR, Jacobi, bisection."
   ]
  },
  {
   "cell_type": "markdown",
   "metadata": {
    "slideshow": {
     "slide_type": "slide"
    }
   },
   "source": [
    "## Todays lecture\n",
    "\n",
    "Today, we will do a brief dive into the randomized NLA.\n",
    "\n",
    "A good read is (https://arxiv.org/pdf/2002.01387.pdf)"
   ]
  },
  {
   "cell_type": "markdown",
   "metadata": {
    "slideshow": {
     "slide_type": "slide"
    }
   },
   "source": [
    "## Random numbers\n",
    "\n",
    "All the computations that we considered up to today were **deterministic**.\n",
    "\n",
    "However, reduction of complexity can be done by using randomized (stochastic) computation.\n",
    "\n",
    "Example: randomized matrix multiplication.\n"
   ]
  },
  {
   "cell_type": "markdown",
   "metadata": {
    "slideshow": {
     "slide_type": "slide"
    }
   },
   "source": [
    "## Checking matrix equality\n",
    "We can check, if $ A B = C$ in $\\mathcal{O}(n^2)$ operations.\n",
    "\n",
    "How? "
   ]
  },
  {
   "cell_type": "markdown",
   "metadata": {
    "slideshow": {
     "slide_type": "slide"
    }
   },
   "source": [
    "## [Freivalds algorithm](https://en.wikipedia.org/wiki/Freivalds%27_algorithm)\n",
    "\n",
    "Checks by multiplying by random vectors! \n",
    "\n",
    "Complexity is $k n^2$, probability is of failure is $\\frac{1}{2^k}$.\n"
   ]
  },
  {
   "cell_type": "markdown",
   "metadata": {
    "slideshow": {
     "slide_type": "slide"
    }
   },
   "source": [
    "## Matrix multiplication\n",
    "\n",
    "But can we multiply matrices faster using randomization ideas?"
   ]
  },
  {
   "cell_type": "markdown",
   "metadata": {
    "slideshow": {
     "slide_type": "slide"
    }
   },
   "source": [
    "## Randomized matrix multiplication\n",
    "\n",
    "- We know that matrix multiplication $AB$ costs $O(mnp)$ for matrices $m \\times p$ and $p \\times n$\n",
    "- We can construct approximation of this product by sampling rows and columns of the multipliers\n",
    "\n",
    "**Q:** how to sample them?\n",
    "\n",
    "**A:** generate probabilities from their norms!\n",
    "\n",
    "- So the final approximation expression\n",
    "\n",
    "$$ AB \\approx \\sum_{t=1}^k \\frac{1}{kp_{i_t}} A^{(i_t)} B_{(i_t)}, $$\n",
    "\n",
    "where $A^{(i_t)}$ is a column of $A$ and $B_{(i_t)}$ is a row of $B$\n",
    "\n",
    "- Complexity reduction from $O(mnp)$ to $O(mnk)$"
   ]
  },
  {
   "cell_type": "code",
   "execution_count": 9,
   "metadata": {
    "slideshow": {
     "slide_type": "slide"
    }
   },
   "outputs": [
    {
     "name": "stdout",
     "output_type": "stream",
     "text": [
      "0.7278865806238983\n",
      "1.5298073040685793\n"
     ]
    }
   ],
   "source": [
    "import numpy as np\n",
    "\n",
    "n = 20\n",
    "p = 1000\n",
    "m = 20\n",
    "A = np.random.randn(n, p)\n",
    "B = np.random.randn(p, m)\n",
    "C = A @ B\n",
    "\n",
    "def randomized_matmul(A, B, k):\n",
    "    p = np.linalg.norm(A, axis=0) * np.linalg.norm(B, axis=1)\n",
    "    p = p.ravel() / p.sum()\n",
    "    n = A.shape[1]\n",
    "    idx = np.random.choice(np.arange(n), (k,), False, p)\n",
    "    d = 1 / np.sqrt(k * p[idx])\n",
    "    A_sketched = A[:, idx] * d[None, :]\n",
    "    B_sketched = B[idx, :] * d[:, None]\n",
    "    C = A_sketched @ B_sketched\n",
    "    return C\n",
    "\n",
    "def randomized_matmul_topk(A, B, K):\n",
    "    \n",
    "    norm_mult = np.linalg.norm(A,axis=0) * np.linalg.norm(B,axis=1)\n",
    "    top_k_idx = np.sort(np.argsort(norm_mult)[::-1][:K])\n",
    "    \n",
    "    A_top_k_cols = A[:, top_k_idx]\n",
    "    B_top_k_rows = B[top_k_idx, :]\n",
    "\n",
    "    C_approx = A_top_k_cols @ B_top_k_rows\n",
    "    return C_approx\n",
    "\n",
    "num_items = 300\n",
    "C_appr_samples = randomized_matmul(A, B, num_items)\n",
    "C_appr_topk = randomized_matmul_topk(A, B, num_items)\n",
    "print(np.linalg.norm(C_appr_topk - C) / np.linalg.norm(C))\n",
    "print(np.linalg.norm(C_appr_samples - C) / np.linalg.norm(C))"
   ]
  },
  {
   "cell_type": "markdown",
   "metadata": {
    "slideshow": {
     "slide_type": "slide"
    }
   },
   "source": [
    "## Approximation error\n",
    "\n",
    "$$ \\mathbb{E} [\\|AB - CR\\|^2_F] = \\frac{1}{k} \\left(\\sum_{i=1}^n \\| A^{(i)} \\|_2 \\| B_{(i)} \\|_2\\right)^2   - \\frac{1}{k}\\|AB\\|_F^2 $$ \n",
    "\n",
    "- Other sampling probabilities are possible\n",
    "- Use approximation\n",
    "$$ AB \\approx ASD(SD)^\\top B  = ACC^{\\top}B$$\n",
    "can replace sampling and scaling with another matrix that\n",
    "    \n",
    "    - reduces the dimension\n",
    "    - sufficiently accurately approximates\n",
    "\n",
    "**Q:** what matrices can be used?"
   ]
  },
  {
   "cell_type": "markdown",
   "metadata": {
    "slideshow": {
     "slide_type": "slide"
    }
   },
   "source": [
    "### Stochastic trace estimator\n",
    "\n",
    "\n",
    "Many problems can be written in the form of the trace estimation:\n",
    "\n",
    "$$\\mathrm{Tr}(A) = \\sum_{i} A_{ii}.$$\n",
    "\n",
    "Can we compute the trace of the matrix if we only have access to matrix-by-vector products?"
   ]
  },
  {
   "cell_type": "markdown",
   "metadata": {
    "slideshow": {
     "slide_type": "slide"
    }
   },
   "source": [
    "## Two estimators\n",
    "\n",
    "The randomized trace estimators can be computed from the following formula:\n",
    "\n",
    "$$\\mathrm{Tr}(A) = E_w w^* A w, \\quad E ww_* = 1$$ \n",
    "\n",
    "In order to sample, we pick $k$ independent samples of $w_k$, get random variable $X_k$ and average the results.\n",
    "\n",
    "**Girard trace estimator**: Sample $w \\sim N(0, 1)$\n",
    "\n",
    "Then, $\\mathrm{Var} X_k = \\frac{2}{k} \\sum_{i, j=1}^n \\sum_{i=1}^n \\vert A_{ij} \\vert^2 = \\frac{2}{k} \\Vert A \\Vert^2_F$\n",
    "\n",
    "**Hutchinson trace estimator**: Let $w$ be a Rademacher random vector (i.e., elements are sampled from the uniform distribution.\n",
    "\n",
    "It gives the minimal variance estimator."
   ]
  },
  {
   "cell_type": "markdown",
   "metadata": {
    "slideshow": {
     "slide_type": "slide"
    }
   },
   "source": [
    "## Intdim\n",
    "\n",
    "The variance of the trace can be estimated in terms of **intrinsic dimension** (intdim) for symmetric positive definite matrices.\n",
    "\n",
    "It is defined as $\\mathrm{intdim}(A) = \\frac{\\mathrm{Tr}(A)}{\\Vert A \\Vert_F}$. It is easy to show that\n",
    "\n",
    "$$1 \\leq \\mathrm{intdim}(A) \\leq r.$$\n",
    "\n",
    "Then, the probability of the large deviation can be estimated as \n",
    "\n",
    "$$P( \\vert \\overline{X}_k - \\mathrm{Tr}(A) \\vert \\geq t \\mathrm{Tr}(A)) \\leq \\frac{2}{k \\mathrm{intdim}(A) t^2}$$"
   ]
  },
  {
   "cell_type": "markdown",
   "metadata": {
    "slideshow": {
     "slide_type": "slide"
    }
   },
   "source": [
    "## Better bounds for SPD matrices\n",
    "\n",
    "If $A$ is SPD, then\n",
    "\n",
    "$$P(\\overline{X}_k \\geq \\tau \\mathrm{Tr}(A) ) \\leq \\exp\\left(-1/2 \\mathrm{intdim}(A) (\\sqrt{\\tau} - 1)^2)\\right) $$\n",
    "\n",
    "Similar inequality holds for the lower bound.\n",
    "\n",
    "This estimate is much better.\n",
    "\n",
    "An interesting (and often mislooked) property of stochastic estimator is that it comes with a stochastic variance estimate\n",
    "(from samples!)\n",
    "\n",
    "Warning: we still need $\\varepsilon^{-2}$ samples to get to the accuracy $\\varepsilon$ when using independent samples."
   ]
  },
  {
   "cell_type": "markdown",
   "metadata": {
    "slideshow": {
     "slide_type": "slide"
    }
   },
   "source": [
    "### Distances between languages ([original paper](https://openreview.net/pdf?id=HyebplHYwB))\n",
    "\n",
    "<img src=\"./gw_matexp.png\">"
   ]
  },
  {
   "cell_type": "markdown",
   "metadata": {
    "slideshow": {
     "slide_type": "slide"
    }
   },
   "source": [
    "## Where do stochastic methods also help?\n",
    "\n",
    "- SVD\n",
    "- Linear systems\n",
    "- Matrix multiplication"
   ]
  },
  {
   "cell_type": "markdown",
   "metadata": {
    "slideshow": {
     "slide_type": "slide"
    }
   },
   "source": [
    "## Randomized SVD ([Halko et al, 2011](https://epubs.siam.org/doi/pdf/10.1137/090771806?casa_token=isi3yX3QdPEAAAAA:j-7Qk87vS0kjKqGMLYeX3xg4QxqqyM8s4wn-XGX-SLOS2BRChFDRTPX-x9Hf7ltfuZYg9xsA0zksw1U))\n",
    "\n",
    "- Problem statement reminder\n",
    "\n",
    "$$ A \\approx U\\Sigma V^\\top, $$\n",
    "\n",
    "where $A$ is of size $m \\times n$, $U$ is of size $m \\times k$ and $V$ is of size $n \\times k$.\n",
    "\n",
    "- We have already known that the complexity of rank-$k$ approximation is $O(mnk)$\n",
    "- How can we reduce this complexity?"
   ]
  },
  {
   "cell_type": "markdown",
   "metadata": {
    "slideshow": {
     "slide_type": "slide"
    }
   },
   "source": [
    "- Assume we know orthogonal matrix $Q$ of size $m \\times k$ such that \n",
    "\n",
    "$$A \\approx Q Q^{\\top}A $$\n",
    "\n",
    "- In other words, columns of $Q$ represent orthogonal basis in the column space of matrix $A$\n",
    "- Then the following deterministic steps can give the factors $U$, $\\Sigma$ and $V$ corresponding of SVD of matrix $A$\n",
    "    - Form $k \\times n$ matrix $B = Q^{\\top}A$\n",
    "    - Compute SVD of small matrix $B = \\hat{U}\\Sigma V^{\\top}$\n",
    "    - Update left singular vectors $U = Q\\hat{U}$\n",
    "    \n",
    "- If $k \\ll \\min(m, n)$ then these steps can be performed fast\n",
    "- If $Q$ forms exact basis in column space of $A$, then $U$, $\\Sigma$ and $V$ are also exact!\n",
    "- So, how to compose matrix $Q$?"
   ]
  },
  {
   "cell_type": "markdown",
   "metadata": {
    "slideshow": {
     "slide_type": "slide"
    }
   },
   "source": [
    "### Randomized approximation of basis in column space of $A$\n",
    "\n",
    "- The main approach\n",
    "    - Generate $k + p$ Gaussian vectors of size $m$ and form matrix $G$\n",
    "    - Compute $Y = AG$\n",
    "    - Compute QR decomposition of $Y$ and use the resulting matrix $Q$ as an approximation of the basis \n",
    "- Parameter $p$ is called **oversampling** parameter and is needed to improve approximation of the leading $k$ left singular vectors later\n",
    "- Computing of $Y$ can be done in parallel\n",
    "- Here we need only matvec function for matrix $A$ rather than its elements as a 2D array - black-box concept!\n",
    "- Instead of Gaussian random matrix one can use more structured but still random matrix that can be multiplied by $A$ fast"
   ]
  },
  {
   "cell_type": "code",
   "execution_count": 2,
   "metadata": {
    "slideshow": {
     "slide_type": "slide"
    }
   },
   "outputs": [
    {
     "name": "stdout",
     "output_type": "stream",
     "text": [
      "Error from randomized SVD 1407.4512171333674\n",
      "Error from exact SVD 1192.1659039032784\n"
     ]
    },
    {
     "data": {
      "image/png": "[encoded data removed]",
      "text/plain": [
       "<Figure size 640x480 with 1 Axes>"
      ]
     },
     "metadata": {},
     "output_type": "display_data"
    }
   ],
   "source": [
    "import matplotlib.pyplot as plt\n",
    "import numpy as np\n",
    "\n",
    "n = 1000\n",
    "k = 100\n",
    "m = 200\n",
    "# Lowrank matrix\n",
    "A = np.random.randn(n, k)\n",
    "B = np.random.randn(k, m)\n",
    "A = A @ B\n",
    "\n",
    "# Random matrix\n",
    "# A = np.random.randn(n, m)\n",
    "\n",
    "def randomized_svd(A, rank, p):\n",
    "    m, n = A.shape\n",
    "    G = np.random.randn(n, rank + p)\n",
    "    Y = A @ G\n",
    "    Q, _ = np.linalg.qr(Y)\n",
    "    B = Q.T @ A\n",
    "    u, S, V = np.linalg.svd(B)\n",
    "    U = Q @ u\n",
    "    return U, S, V\n",
    "\n",
    "rank = 70\n",
    "p = 20\n",
    "U, S, V = randomized_svd(A, rank, p)\n",
    "print(\"Error from randomized SVD\", np.linalg.norm(A - U[:, :rank] * S[None, :rank] @ V[:rank, :]))\n",
    "plt.semilogy(S[:rank] / S[0], label=\"Random SVD\")\n",
    "u, s, v = np.linalg.svd(A)\n",
    "print(\"Error from exact SVD\", np.linalg.norm(A - u[:, :rank] * s[None, :rank] @ v[:rank, :]))\n",
    "plt.semilogy(s[:rank] / s[0], label=\"Exact SVD\")\n",
    "plt.legend(fontsize=18)\n",
    "plt.xticks(fontsize=16)\n",
    "plt.yticks(fontsize=16)\n",
    "plt.ylabel(\"$\\sigma_i / \\sigma_0$\", fontsize=16)\n",
    "_ = plt.xlabel(\"Index of singular value\", fontsize=16)"
   ]
  },
  {
   "cell_type": "code",
   "execution_count": 4,
   "metadata": {
    "slideshow": {
     "slide_type": "slide"
    }
   },
   "outputs": [
    {
     "name": "stdout",
     "output_type": "stream",
     "text": [
      "59.7 ms ± 6.14 ms per loop (mean ± std. dev. of 7 runs, 10 loops each)\n",
      "18.7 ms ± 2.69 ms per loop (mean ± std. dev. of 7 runs, 10 loops each)\n",
      "15.5 ms ± 2.46 ms per loop (mean ± std. dev. of 7 runs, 100 loops each)\n"
     ]
    }
   ],
   "source": [
    "import scipy.sparse.linalg as spsplin\n",
    "# More details about Facebook package for computing randomized SVD is here: https://research.fb.com/blog/2014/09/fast-randomized-svd/ \n",
    "import fbpca\n",
    "n = 1000\n",
    "m = 200\n",
    "A = np.random.randn(n, m)\n",
    "k = 10\n",
    "p = 10\n",
    "%timeit spsplin.svds(A, k=k)\n",
    "%timeit randomized_svd(A, k, p)\n",
    "%timeit fbpca.pca(A, k=k, raw=False) "
   ]
  },
  {
   "cell_type": "markdown",
   "metadata": {
    "slideshow": {
     "slide_type": "slide"
    }
   },
   "source": [
    "### Convergence theorem\n",
    "\n",
    "The averaged error of the presented algorithm, where $k$ is target rank and $p$ is oversampling parameter, is the following\n",
    "- in Frobenius norm\n",
    "\n",
    "$$ \\mathbb{E}\\|A - QQ^{\\top}A \\|_F \\leq \\left( 1 + \\frac{k}{p-1} \\right)^{1/2}\\left( \\sum_{j=k+1}^{\\min(m, n)} \\sigma^2_j \\right)^{1/2}  $$\n",
    "\n",
    "- in spectral norm\n",
    "\n",
    "$$ \\mathbb{E}\\|A - QQ^{\\top}A \\|_2 \\leq \\left( 1 + \\sqrt{\\frac{k}{p-1}} \\right)\\sigma_{k+1} + \\frac{e\\sqrt{k+p}}{p}\\left( \\sum_{j=k+1}^{\\min(m, n)} \\sigma^2_j \\right)^{1/2} $$\n",
    "\n",
    "The expectation is taken w.r.t. random matrix $G$ generated in the method described above.\n",
    "\n",
    "Compare these upper bounds with Eckart-Young theorem. Are these bounds good?\n",
    "\n"
   ]
  },
  {
   "cell_type": "markdown",
   "metadata": {
    "slideshow": {
     "slide_type": "slide"
    }
   },
   "source": [
    "## Accuracy enhanced randomized SVD\n",
    "\n",
    "- Main idea: power iteration\n",
    "- If $A = U \\Sigma V^\\top$, then $A^{(q)} = (AA^{\\top})^qA = U \\Sigma^{2q+1}V^\\top $, where $q$ some small natural number, e.g. 1 or 2\n",
    "- Then we sample from $A^{(q)}$, not from $A$\n",
    "\n",
    "$$ Y = (AA^{\\top})^qAG \\qquad Q, R = \\mathtt{qr}(Y) $$\n",
    "\n",
    "- The main reason: if singular values of $A$ decays slowly, the singular values of $A^{(q)}$ will decay faster "
   ]
  },
  {
   "cell_type": "code",
   "execution_count": 5,
   "metadata": {
    "slideshow": {
     "slide_type": "slide"
    }
   },
   "outputs": [
    {
     "data": {
      "image/png": "[encoded data removed]",
      "text/plain": [
       "<Figure size 640x480 with 1 Axes>"
      ]
     },
     "metadata": {},
     "output_type": "display_data"
    }
   ],
   "source": [
    "n = 1000\n",
    "m = 200\n",
    "A = np.random.randn(n, m)\n",
    "s = np.linalg.svd(A, compute_uv=False)\n",
    "Aq = A @ A.T @ A\n",
    "sq = np.linalg.svd(Aq, compute_uv=False)\n",
    "plt.semilogy(s / s[0], label=\"$A$\")\n",
    "plt.semilogy(sq / sq[0], label=\"$A^{(1)}$\")\n",
    "plt.legend(fontsize=18)\n",
    "plt.xticks(fontsize=16)\n",
    "plt.yticks(fontsize=16)\n",
    "plt.ylabel(\"$\\sigma_i / \\sigma_0$\", fontsize=16)\n",
    "_ = plt.xlabel(\"Index of singular value\", fontsize=16)"
   ]
  },
  {
   "cell_type": "markdown",
   "metadata": {
    "slideshow": {
     "slide_type": "slide"
    }
   },
   "source": [
    "### Loss of accuracy with rounding errors\n",
    "\n",
    "- Compose $A^{(q)}$ naively leads to condition number grows and loss of accuracy\n",
    "\n",
    "**Q:** how can we battle with this issue?"
   ]
  },
  {
   "cell_type": "markdown",
   "metadata": {
    "slideshow": {
     "slide_type": "fragment"
    }
   },
   "source": [
    "**A:** sequential orthogonalization!"
   ]
  },
  {
   "cell_type": "code",
   "execution_count": 6,
   "metadata": {
    "slideshow": {
     "slide_type": "slide"
    }
   },
   "outputs": [
    {
     "name": "stdout",
     "output_type": "stream",
     "text": [
      "Error from randomized SVD 288.7036072943936\n",
      "Error from more accurate randomized SVD 251.96132041204794\n",
      "Error from exact SVD 250.99500770611198\n"
     ]
    },
    {
     "data": {
      "image/png": "[encoded data removed]",
      "text/plain": [
       "<Figure size 640x480 with 1 Axes>"
      ]
     },
     "metadata": {},
     "output_type": "display_data"
    }
   ],
   "source": [
    "def more_accurate_randomized_svd(A, rank, p, q):\n",
    "    m, n = A.shape\n",
    "    G = np.random.randn(n, rank + p)\n",
    "    Y = A @ G\n",
    "    Q, _ = np.linalg.qr(Y)\n",
    "    for i in range(q):\n",
    "        W = A.T @ Q\n",
    "        W, _ = np.linalg.qr(W)\n",
    "        Q = A @ W\n",
    "        Q, _ = np.linalg.qr(Q)\n",
    "    B = Q.T @ A\n",
    "    u, S, V = np.linalg.svd(B)\n",
    "    U = Q @ u\n",
    "    return U, S, V\n",
    "\n",
    "n = 1000\n",
    "m = 200\n",
    "A = np.random.randn(n, m)\n",
    "\n",
    "rank = 100\n",
    "p = 20\n",
    "U, S, V = randomized_svd(A, rank, p)\n",
    "print(\"Error from randomized SVD\", np.linalg.norm(A - U[:, :rank] * S[None, :rank] @ V[:rank, :]))\n",
    "plt.semilogy(S[:rank] / S[0], label=\"Random SVD\")\n",
    "\n",
    "Uq, Sq, Vq = more_accurate_randomized_svd(A, rank, p, 5)\n",
    "print(\"Error from more accurate randomized SVD\", np.linalg.norm(A - Uq[:, :rank] * Sq[None, :rank] @ Vq[:rank, :]))\n",
    "plt.semilogy(Sq[:rank] / Sq[0], label=\"Accurate random SVD\")\n",
    "\n",
    "u, s, v = np.linalg.svd(A)\n",
    "print(\"Error from exact SVD\", np.linalg.norm(A - u[:, :rank] * s[None, :rank] @ v[:rank, :]))\n",
    "plt.semilogy(s[:rank] / s[0], label=\"Exact SVD\")\n",
    "plt.legend(fontsize=18)\n",
    "plt.xticks(fontsize=16)\n",
    "plt.yticks(fontsize=16)\n",
    "plt.ylabel(\"$\\sigma_i / \\sigma_0$\", fontsize=16)\n",
    "_ = plt.xlabel(\"Index of singular value\", fontsize=16)"
   ]
  },
  {
   "cell_type": "code",
   "execution_count": 7,
   "metadata": {
    "slideshow": {
     "slide_type": "slide"
    }
   },
   "outputs": [
    {
     "name": "stdout",
     "output_type": "stream",
     "text": [
      "58.9 ms ± 3.99 ms per loop (mean ± std. dev. of 7 runs, 10 loops each)\n",
      "18.6 ms ± 1.17 ms per loop (mean ± std. dev. of 7 runs, 100 loops each)\n",
      "27.9 ms ± 3.39 ms per loop (mean ± std. dev. of 7 runs, 10 loops each)\n",
      "46 ms ± 6.25 ms per loop (mean ± std. dev. of 7 runs, 10 loops each)\n",
      "76.2 ms ± 14.9 ms per loop (mean ± std. dev. of 7 runs, 10 loops each)\n",
      "133 ms ± 19.2 ms per loop (mean ± std. dev. of 7 runs, 10 loops each)\n"
     ]
    }
   ],
   "source": [
    "%timeit spsplin.svds(A, k=k)\n",
    "%timeit fbpca.pca(A, k=k, raw=False)\n",
    "%timeit randomized_svd(A, k, p) \n",
    "%timeit more_accurate_randomized_svd(A, k, p, 1)\n",
    "%timeit more_accurate_randomized_svd(A, k, p, 2)\n",
    "%timeit more_accurate_randomized_svd(A, k, p, 5)"
   ]
  },
  {
   "cell_type": "markdown",
   "metadata": {
    "slideshow": {
     "slide_type": "slide"
    }
   },
   "source": [
    "### Convergence theorem\n",
    "\n",
    "The presented above method provides the following upper bound\n",
    "\n",
    "$$ \\mathbb{E}\\|A - QQ^{\\top}A \\|_2 \\leq \\left[\\left( 1 + \\sqrt{\\frac{k}{p-1}} \\right)\\sigma^{2q+1}_{k+1} + \\frac{e\\sqrt{k+p}}{p}\\left( \\sum_{j=k+1}^{\\min(m, n)} \\sigma^{2(2q+1)}_j \\right)^{1/2}\\right]^{1/(2q+1)} $$\n",
    "\n",
    "Consider the worst case, where no lowrank structure exists in the given matrix.\n",
    "\n",
    "**Q:** what is the degree of suboptimality w.r.t. Eckart-Young theorem? "
   ]
  },
  {
   "cell_type": "markdown",
   "metadata": {
    "slideshow": {
     "slide_type": "slide"
    }
   },
   "source": [
    "### Summary on randomized SVD\n",
    "\n",
    "- Efficient method to get approximate SVD\n",
    "- Simple to implement\n",
    "- It can be extended to one-pass method, where matrix $A$ is needed only to construct $Q$\n",
    "- It requires only matvec with target matrix"
   ]
  },
  {
   "cell_type": "markdown",
   "metadata": {
    "slideshow": {
     "slide_type": "slide"
    }
   },
   "source": [
    "## Kaczmarz method to solve linear systems \n",
    "\n",
    "- We have already discussed how to solve overdetermined linear systems $Ax = f$ in the least-squares manner\n",
    "    - pseudoinverse matrix\n",
    "    - QR decomposition\n",
    "- One more approach is based on iterative projections a.k.a. **Kaczmarz method** or **algebraic reconstruction technique** in compoutational tomography domain\n",
    "- Instead of solving all equations, pick one randomly, which reads\n",
    "\n",
    "$$a^{\\top}_i x = f_i,$$\n",
    "\n",
    "and given an approximation $x_k$ try to find $x_{k+1}$ as \n",
    "\n",
    "$$x_{k+1} = \\arg \\min_x \\frac12 \\Vert x - x_k \\Vert^2_2, \\quad \\mbox{s.t.} \\quad  a^{\\top}_i x = f_i.$$\n",
    "\n",
    "- A simple analysis gives \n",
    "\n",
    "$$x_{k+1} = x_k - \\frac{(a_i, x_k) - f_i}{(a_i, a_i)} a_i. $$\n",
    "\n",
    "- A cheap update, but the analysis is quite complicated.\n",
    "- You can recognize in this method stochastic gradient descent with specific step size equal to $\\frac{1}{\\|a_i\\|_2^2}$ for every sample"
   ]
  },
  {
   "cell_type": "markdown",
   "metadata": {
    "slideshow": {
     "slide_type": "slide"
    }
   },
   "source": [
    "## Convergence theorem\n",
    "\n",
    "- Assume we generate $i$ according to the distribution over the all available indices proportional to norms of the rows, i.e. $\\mathbb{P}[i = k] = \\frac{\\|a_k\\|_2^2}{\\| A \\|^2_F}$. This method is called Randomized Kaczmarz method (RKM)\n",
    "- Why sampling strategy is important here?\n",
    "- Investigation of the best sampling is provided [here](https://scholar.harvard.edu/files/yuelu/files/randkac_globalsip14.pdf)\n",
    "- If the overdetermined linear system is **consistent**, then\n",
    "\n",
    "$$ \\mathbb{E}[\\|x_{k+1} - x^*\\|^2_2] \\leq \\left(1 - \\frac{1}{\\kappa^2_F(A)}\\right) \\mathbb{E}[\\|x_{k} - x^*\\|^2_2], $$\n",
    "\n",
    "where $\\kappa_F(A) = \\frac{\\| A \\|_F}{\\sigma_{\\min}(A)}$ and $\\sigma_{\\min}(A)$ is a minimal non-zero singular value of $A$. This result was presented in ([Strohmer and Vershynin, 2009](http://people.eecs.berkeley.edu/~brecht/cs294docs/week1/09.Strohmer.pdf))\n",
    "\n",
    "- If the overdetermined linear system is **inconsistent**, then\n",
    "\n",
    "$$ \\mathbb{E}[\\|x_{k+1} - x^*\\|^2_2] \\leq \\left(1 - \\frac{1}{\\kappa^2_F(A)}\\right) \\mathbb{E}[\\|x_{k} - x^*\\|^2_2] + \\frac{\\|r^*\\|_2^2}{\\| A \\|^2_F}, $$\n",
    "\n",
    "where $r^* = Ax^* - f$"
   ]
  },
  {
   "cell_type": "markdown",
   "metadata": {
    "slideshow": {
     "slide_type": "slide"
    }
   },
   "source": [
    "### Inconsistent overdetermined linear system\n",
    "\n",
    "- It was shown in ([Needell, 2010](https://arxiv.org/pdf/0902.0958.pdf)) that RKM does not converge to $A^{\\dagger}f$\n",
    "- To address this issue Randomized extended Kaczmarz method was proposed in ([A Zouzias, N Freris, 2013](https://arxiv.org/pdf/1205.5770.pdf))\n",
    "- The main idea is to use two steps of RKM:\n",
    "    - the first step is for system $A^\\top z = 0$ starting from $z_k$\n",
    "    \n",
    "    $$ z^{k+1} = z^{k} - \\frac{a^\\top_{:, j} z^k}{\\| a_{:, j} \\|_2^2}a_{:, j}  $$ \n",
    "    \n",
    "    - the second step is for system $Ax = f - z_{k+1}$ starting from $x_k$\n",
    "    \n",
    "    $$x^{k+1} = x^k - \\frac{a_{i,:}x_k - f_i + z^{k+1}_i}{\\|a_{i,:}\\|_2^2}a^{\\top}_{i,:} $$\n",
    "    \n",
    "Here $a_{:, j}$ denotes the $j$-th column of $A$ and $a_{i, :}$ denotes the $i$-th row of $A$\n",
    "\n",
    "- If $z^0 \\in f + \\mathrm{range}(A)$ and $x^0 \\in \\mathrm{range}(A^\\top)$, then REK converges exponentially to $A^{\\dagger}f$ "
   ]
  },
  {
   "cell_type": "markdown",
   "metadata": {
    "slideshow": {
     "slide_type": "slide"
    }
   },
   "source": [
    "## Sampling and sketching\n",
    "\n",
    "- Sampling of a particular row can be considered as a particular case of more general approach called **sketching**\n",
    "- Idea: replace matrix $A$ with another matrix $SA$, where matrix $SA$ has significantly smaller number of rows but preserves some important properties of matrix $A$\n",
    "- Possible choices:\n",
    "    - random projection\n",
    "    - random row selection\n",
    "- Example: linear least squares problem $\\|Ax - b\\|_2^2 \\to \\min_x$ transforms to $\\| (SA)y - Sb \\|_2^2 \\to \\min_y$ and we expect that $x \\approx y$\n",
    "- [Blendenpick](https://pdos.csail.mit.edu/~petar/papers/blendenpik-v1.pdf) solver is based on that idea and outperforms LAPACK routine \n",
    "- More details see in [Sketching as a Tool for Numerical Linear Algebra](https://researcher.watson.ibm.com/researcher/files/us-dpwoodru/wNow3.pdf) by D. Woodruff"
   ]
  },
  {
   "cell_type": "markdown",
   "metadata": {
    "slideshow": {
     "slide_type": "slide"
    }
   },
   "source": [
    "## Coherence\n",
    "\n",
    "The key idea is the coherence of the matrix.\n",
    "\n",
    "Let $A$ be $n \\times r$ and $U$ be an orthogonal matrix whose columns form the basis of the column space of $A$.\n",
    "\n",
    "Then, coherence is defined as\n",
    "\n",
    "$$\\mu(A) = \\max \\Vert U_{i, *} \\Vert^2$$\n",
    "\n",
    "Coherence is always smaller than $1$ and bigger than $\\frac{r}{n}$, it has nothing to do with the condition number.\n",
    "\n",
    "What does it mean? "
   ]
  },
  {
   "cell_type": "markdown",
   "metadata": {
    "slideshow": {
     "slide_type": "slide"
    }
   },
   "source": [
    "## Coherence\n",
    "\n",
    "Small coherence means, that sampling rows uniformly gives a good preconditioner (will be covered later in the course, and why it is important)\n",
    "\n",
    "One can do $S A = QR$, and look at the condition number of $AR^{-1}$."
   ]
  },
  {
   "cell_type": "markdown",
   "metadata": {
    "slideshow": {
     "slide_type": "slide"
    }
   },
   "source": [
    "### Summary on randomized methods in solving linear systems\n",
    "\n",
    "- Easy to use family of methods\n",
    "- Especially useful in problems with streaming data\n",
    "- Existing theoretical bounds for convergence\n",
    "- Many interpretations in different domains (SGD in deep learning, ART in computational tomography)"
   ]
  },
  {
   "cell_type": "markdown",
   "metadata": {
    "slideshow": {
     "slide_type": "slide"
    }
   },
   "source": [
    "### Summary on randomized matmul\n",
    "\n",
    "- Simple method to get approximation of result\n",
    "- Can be used if the high accuracy is not crucial\n",
    "- Especially useful for large dense matrices"
   ]
  },
  {
   "cell_type": "markdown",
   "metadata": {
    "slideshow": {
     "slide_type": "slide"
    }
   },
   "source": [
    "## Next lecture\n",
    "- We start **sparse and/or structured** NLA."
   ]
  },
  {
   "cell_type": "markdown",
   "metadata": {
    "slideshow": {
     "slide_type": "slide"
    }
   },
   "source": [
    "# Questions?"
   ]
  },
  {
   "cell_type": "code",
   "execution_count": 14,
   "metadata": {
    "slideshow": {
     "slide_type": "skip"
    }
   },
   "outputs": [
    {
     "data": {
      "text/html": [
       "<link href='http://fonts.googleapis.com/css?family=Fenix' rel='stylesheet' type='text/css'>\n",
       "<link href='http://fonts.googleapis.com/css?family=Alegreya+Sans:100,300,400,500,700,800,900,100italic,300italic,400italic,500italic,700italic,800italic,900italic' rel='stylesheet' type='text/css'>\n",
       "<link href='http://fonts.googleapis.com/css?family=Source+Code+Pro:300,400' rel='stylesheet' type='text/css'>\n",
       "<style>\n",
       "    @font-face {\n",
       "        font-family: \"Computer Modern\";\n",
       "        src: url('http://mirrors.ctan.org/fonts/cm-unicode/fonts/otf/cmunss.otf');\n",
       "    }\n",
       "    div.cell{\n",
       "        /*width:80%;*/\n",
       "        /*margin-left:auto !important;\n",
       "        margin-right:auto;*/\n",
       "    }\n",
       "    h1 {\n",
       "        font-family: 'Alegreya Sans', sans-serif;\n",
       "    }\n",
       "    h2 {\n",
       "        font-family: 'Fenix', serif;\n",
       "    }\n",
       "    h3{\n",
       "\t\tfont-family: 'Fenix', serif;\n",
       "        margin-top:12px;\n",
       "        margin-bottom: 3px;\n",
       "       }\n",
       "\th4{\n",
       "\t\tfont-family: 'Fenix', serif;\n",
       "       }\n",
       "    h5 {\n",
       "        font-family: 'Alegreya Sans', sans-serif;\n",
       "    }\t   \n",
       "    div.text_cell_render{\n",
       "        font-family: 'Alegreya Sans',Computer Modern, \"Helvetica Neue\", Arial, Helvetica, Geneva, sans-serif;\n",
       "        line-height: 1.2;\n",
       "        font-size: 120%;\n",
       "        /*width:70%;*/\n",
       "        /*margin-left:auto;*/\n",
       "        margin-right:auto;\n",
       "    }\n",
       "    .CodeMirror{\n",
       "            font-family: \"Source Code Pro\";\n",
       "\t\t\tfont-size: 90%;\n",
       "    }\n",
       "/*    .prompt{\n",
       "        display: None;\n",
       "    }*/\n",
       "    .text_cell_render h1 {\n",
       "        font-weight: 200;\n",
       "        font-size: 50pt;\n",
       "\t\tline-height: 110%;\n",
       "        color:#CD2305;\n",
       "        margin-bottom: 0.5em;\n",
       "        margin-top: 0.5em;\n",
       "        display: block;\n",
       "    }\t\n",
       "    .text_cell_render h5 {\n",
       "        font-weight: 300;\n",
       "        font-size: 16pt;\n",
       "        color: #CD2305;\n",
       "        font-style: italic;\n",
       "        margin-bottom: .5em;\n",
       "        margin-top: 0.5em;\n",
       "        display: block;\n",
       "    }\n",
       "    \n",
       "    li {\n",
       "        line-height: 110%;\n",
       "    }\n",
       "    .warning{\n",
       "        color: rgb( 240, 20, 20 )\n",
       "        }  \n",
       "\n",
       "</style>\n",
       "\n",
       "<script>\n",
       "    MathJax.Hub.Config({\n",
       "                        TeX: {\n",
       "                           extensions: [\"AMSmath.js\"]\n",
       "                           },\n",
       "                tex2jax: {\n",
       "                    inlineMath: [ ['$','$'], [\"\\\\(\",\"\\\\)\"] ],\n",
       "                    displayMath: [ ['$$','$$'], [\"\\\\[\",\"\\\\]\"] ]\n",
       "                },\n",
       "                displayAlign: 'center', // Change this to 'center' to center equations.\n",
       "                \"HTML-CSS\": {\n",
       "                    styles: {'.MathJax_Display': {\"margin\": 4}}\n",
       "                }\n",
       "        });\n",
       "</script>\n"
      ],
      "text/plain": [
       "<IPython.core.display.HTML object>"
      ]
     },
     "execution_count": 14,
     "metadata": {},
     "output_type": "execute_result"
    }
   ],
   "source": [
    "from IPython.core.display import HTML\n",
    "def css_styling():\n",
    "    styles = open(\"./styles/custom.css\", \"r\").read()\n",
    "    return HTML(styles)\n",
    "css_styling()"
   ]
  }
 ],
 "metadata": {
  "anaconda-cloud": {},
  "celltoolbar": "Slideshow",
  "kernelspec": {
   "display_name": "Python 3 (ipykernel)",
   "language": "python",
   "name": "python3"
  },
  "language_info": {
   "codemirror_mode": {
    "name": "ipython",
    "version": 3
   },
   "file_extension": ".py",
   "mimetype": "text/x-python",
   "name": "python",
   "nbconvert_exporter": "python",
   "pygments_lexer": "ipython3",
   "version": "3.9.13"
  },
  "latex_envs": {
   "LaTeX_envs_menu_present": true,
   "bibliofile": "biblio.bib",
   "cite_by": "apalike",
   "current_citInitial": 1,
   "eqLabelWithNumbers": true,
   "eqNumInitial": 1,
   "labels_anchors": false,
   "latex_user_defs": false,
   "report_style_numbering": false,
   "user_envs_cfg": false
  },
  "nav_menu": {},
  "rise": {
   "scroll": true,
   "theme": "sky",
   "transition": "zoom"
  },
  "toc": {
   "navigate_menu": true,
   "number_sections": false,
   "sideBar": true,
   "threshold": 6,
   "toc_cell": false,
   "toc_section_display": "block",
   "toc_window_display": false
  }
 },
 "nbformat": 4,
 "nbformat_minor": 1
}
